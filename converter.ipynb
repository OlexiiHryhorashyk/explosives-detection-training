{
 "cells": [
  {
   "cell_type": "code",
   "execution_count": 1,
   "metadata": {},
   "outputs": [],
   "source": [
    "from PIL import Image\n",
    "import os\n",
    "\n",
    "# Define the directory containing images\n",
    "dir_name = \"tm62\"\n",
    "image_dir = f\"./images/{dir_name}\"  # replace with your images directory path\n",
    "\n",
    "# # Loop through each file in the directory\n",
    "# i = 1\n",
    "# for filename in os.listdir(image_dir):\n",
    "#     file_path = os.path.join(image_dir, filename)\n",
    "    \n",
    "#     # if filename.lower().endswith('.jpg'):\n",
    "#     #     continue\n",
    "#     # Open the image file\n",
    "#     with Image.open(file_path) as img:\n",
    "#         # Convert and save as JPEG format\n",
    "#         jpeg_path = os.path.join(image_dir, f\"{dir_name}_{i}.jpg\")\n",
    "#         i+=1\n",
    "        \n",
    "#         # Convert image to RGB in case it's not in a compatible mode (like RGBA)\n",
    "#         img = img.convert(\"RGB\")\n",
    "#         img.save(jpeg_path, \"JPEG\")\n",
    "#         os.remove(file_path)\n",
    "\n",
    "# print(\"Conversion to JPEG complete.\")\n"
   ]
  }
 ],
 "metadata": {
  "kernelspec": {
   "display_name": ".venv",
   "language": "python",
   "name": "python3"
  },
  "language_info": {
   "codemirror_mode": {
    "name": "ipython",
    "version": 3
   },
   "file_extension": ".py",
   "mimetype": "text/x-python",
   "name": "python",
   "nbconvert_exporter": "python",
   "pygments_lexer": "ipython3",
   "version": "3.11.0"
  }
 },
 "nbformat": 4,
 "nbformat_minor": 2
}
