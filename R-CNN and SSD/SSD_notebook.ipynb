{
 "cells": [
  {
   "cell_type": "code",
   "execution_count": null,
   "metadata": {},
   "outputs": [],
   "source": [
    "from pytorch_detection_tools import get_predictions, visualize_predictions\n",
    "from training_tools import create_ssd_model\n",
    "import torch\n",
    "\n",
    "model_name = \"exp_ssd.pth\"\n",
    "model_state_path = f\"../trained_models/{model_name}\"\n",
    "model = create_ssd_model(num_classes=9)\n",
    "checkpoint = torch.load(model_state_path)\n",
    "model.load_state_dict(checkpoint[\"model_state_dict\"])\n",
    "model.eval()\n",
    "image_path = \"../ozm72_3.jpg\"\n",
    "device = torch.device('cpu')\n",
    "boxes, labels, scores = get_predictions(model, image_path, device, threshold=0.2)\n",
    "visualize_predictions(image_path, boxes, labels, scores)"
   ]
  },
  {
   "cell_type": "code",
   "execution_count": null,
   "metadata": {},
   "outputs": [],
   "source": [
    "from torchvision.models.detection import ssd\n",
    "model = ssd.ssd300_vgg16(pretrained=True)\n",
    "model.eval()\n",
    "image_path = \"../traffic.jpg\"\n",
    "boxes, labels, scores = get_predictions(model, image_path, torch.device('cpu'), threshold=0.65)\n",
    "visualize_predictions(image_path, boxes, labels, scores, coco=True)"
   ]
  },
  {
   "cell_type": "code",
   "execution_count": null,
   "metadata": {},
   "outputs": [],
   "source": [
    "import torch\n",
    "from torch.utils.data import DataLoader\n",
    "import torch.optim as optim\n",
    "from torch.optim.lr_scheduler import StepLR\n",
    "from training_tools import collate_fn, get_custom_dataset, save_model, create_ssd_model\n",
    "import os\n",
    "import json\n",
    "\n",
    "model_state_path = '../trained_models/exp_ssd.pth'\n",
    "\n",
    "print(\"Loading dataset...\")\n",
    "train_data_dir = \"../explosives_small_dataset/coco/train\"\n",
    "\n",
    "my_dataset = get_custom_dataset(train_data_dir)\n",
    "print('Number of samples: ', len(my_dataset))\n",
    "# DataLoader instance\n",
    "data_loader = DataLoader(my_dataset,\n",
    "                         batch_size=2,\n",
    "                         shuffle=True,\n",
    "                         collate_fn=collate_fn)\n",
    "\n",
    "# Initialize the model\n",
    "print(\"Loading the model...\")\n",
    "num_classes = 9\n",
    "model = create_ssd_model(num_classes)\n",
    "\n",
    "device = torch.device('cuda') if torch.cuda.is_available() else torch.device('cpu')\n",
    "model.to(device)\n",
    "\n",
    "params = [p for p in model.parameters() if p.requires_grad]\n",
    "optimizer = optim.SGD(params=params, lr=0.00001, momentum=0.9)\n",
    "lr_scheduler = StepLR(optimizer, step_size=2)\n",
    "epoch = 0\n",
    "model.train()\n",
    "i = 0\n",
    "for images, targets in data_loader:\n",
    "    images = list(image.to(device) for image in images)\n",
    "    targets = [{k: v.to(device) for k, v in t.items()} for t in targets]\n",
    "    optimizer.zero_grad()\n",
    "    losses = model(images, targets)\n",
    "    loss = sum(loss for loss in losses.values())\n",
    "    loss.backward()\n",
    "    optimizer.step()\n",
    "    if not i % 2:\n",
    "        print(f\"Epoch: {epoch}, Iteration: {i}, Loss: {loss.item()}\")\n",
    "    i += 1\n",
    "lr_scheduler.step()\n",
    "epoch+=1\n",
    "save_model(model, model_state_path, optimizer, epoch, loss)"
   ]
  },
  {
   "cell_type": "code",
   "execution_count": null,
   "metadata": {},
   "outputs": [],
   "source": []
  }
 ],
 "metadata": {
  "kernelspec": {
   "display_name": ".venv",
   "language": "python",
   "name": "python3"
  },
  "language_info": {
   "codemirror_mode": {
    "name": "ipython",
    "version": 3
   },
   "file_extension": ".py",
   "mimetype": "text/x-python",
   "name": "python",
   "nbconvert_exporter": "python",
   "pygments_lexer": "ipython3",
   "version": "3.11.0"
  }
 },
 "nbformat": 4,
 "nbformat_minor": 2
}
