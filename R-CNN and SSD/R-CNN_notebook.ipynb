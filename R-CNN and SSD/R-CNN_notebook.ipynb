{
 "cells": [
  {
   "cell_type": "code",
   "execution_count": 1,
   "metadata": {},
   "outputs": [],
   "source": [
    "from torchvision.models.detection import fasterrcnn_resnet50_fpn_v2"
   ]
  },
  {
   "cell_type": "code",
   "execution_count": null,
   "metadata": {},
   "outputs": [],
   "source": [
    "from torchvision.models.detection import fasterrcnn_resnet50_fpn_v2\n",
    "model = fasterrcnn_resnet50_fpn_v2(pretrained=True, progress=True)\n",
    "\n",
    "model.eval()\n"
   ]
  },
  {
   "cell_type": "code",
   "execution_count": null,
   "metadata": {},
   "outputs": [],
   "source": [
    "import torchvision.transforms as transforms\n",
    "from PIL import Image\n",
    "\n",
    "image = Image.open(\"../image.png\")\n",
    "# transform input image to tensor\n",
    "transform = transforms.Compose([transforms.ToTensor()])\n",
    "\n",
    "image_tensor = transform(image)\n",
    "image_tensor"
   ]
  },
  {
   "cell_type": "code",
   "execution_count": null,
   "metadata": {},
   "outputs": [],
   "source": [
    "image_tensor.shape"
   ]
  },
  {
   "cell_type": "code",
   "execution_count": null,
   "metadata": {},
   "outputs": [],
   "source": [
    "image_tensor = image_tensor.unsqueeze(dim=0)\n",
    "image_tensor.shape"
   ]
  },
  {
   "cell_type": "code",
   "execution_count": null,
   "metadata": {},
   "outputs": [],
   "source": [
    "predictions = model(image_tensor)\n",
    "predictions"
   ]
  },
  {
   "cell_type": "code",
   "execution_count": null,
   "metadata": {},
   "outputs": [],
   "source": [
    "import matplotlib.pyplot as plt\n",
    "import matplotlib.patches as patches\n",
    "\n",
    "classNames = [\"PMF 1\", \"PMN 2\", \"F1\", \"RGD 5\", \"RKG 3\", \"TM 62\", \"OZM 72\", \"MON 50\"]\n",
    "# Set a threshold for displaying predictions\n",
    "CONFIDENCE_THRESHOLD = 0.5  # for example, 50%\n",
    "\n",
    "# Convert tensor image back to numpy for visualization\n",
    "img = image_tensor.squeeze().detach().cpu().numpy()  # Adjust dimensions as necessary\n",
    "img = img.transpose(1, 2, 0)  # Rearrange the dimensions from CxHxW to HxWxC for image display\n",
    "\n",
    "# Create figure and axes\n",
    "fig, ax = plt.subplots(1, figsize=(12, 9))\n",
    "\n",
    "# Display the image\n",
    "ax.imshow(img)\n",
    "preds = predictions\n",
    "# Add bounding boxes and labels\n",
    "for box, label, score in zip(preds[0]['boxes'], preds[0]['labels'], preds[0]['scores']):\n",
    "    if score.item() > CONFIDENCE_THRESHOLD:\n",
    "        x1, y1, x2, y2 = box.detach().cpu().numpy()  # Make sure to detach and convert boxes as well\n",
    "\n",
    "        # Adjust for potential off-by-one error\n",
    "        label_index = label.item()  # Assuming model's labels are 0-indexed\n",
    "        # If labels are 1-indexed, subtract 1: label_index = label.item() - 1\n",
    "\n",
    "        label_name = classNames[label_index]\n",
    "        rect = patches.Rectangle((x1, y1), x2 - x1, y2 - y1, linewidth=1, edgecolor='r', facecolor='none')\n",
    "        ax.add_patch(rect)\n",
    "        plt.text(x1, y1, f'{label_name} {score.item():.2f}', color='white', fontsize=8, bbox=dict(facecolor='red', alpha=0.5))\n",
    "\n",
    "plt.axis('off')  # to turn off axes for better visualization\n",
    "plt.show()\n"
   ]
  },
  {
   "cell_type": "code",
   "execution_count": null,
   "metadata": {},
   "outputs": [],
   "source": [
    "import torch\n",
    "import torchvision\n",
    "from torchvision.models.detection import fasterrcnn_resnet50_fpn_v2\n",
    "from pytorch_detection_tools import get_predictions, visualize_predictions\n",
    "\n",
    "# Load the pretrained model\n",
    "model = fasterrcnn_resnet50_fpn_v2(pretrained=False)\n",
    "in_features = model.roi_heads.box_predictor.cls_score.in_features\n",
    "model.roi_heads.box_predictor = torchvision.models.detection.faster_rcnn.FastRCNNPredictor(in_features, 9)\n",
    "model_state_path = '../trained_models/exp_faster_rcnn.pth'\n",
    "# Load the saved model weights'\n",
    "checkpoint = torch.load(model_state_path)\n",
    "model.load_state_dict(checkpoint['model_state_dict'])\n",
    "# evaluation mode\n",
    "model.eval()\n",
    "# Move the model to the appropriate device\n",
    "device = torch.device('cuda') if torch.cuda.is_available() else torch.device('cpu')\n",
    "model.to(device)\n",
    "image_path = \"../pmn2_52.jpg\"\n",
    "boxes, labels, scores = get_predictions(model, image_path, device)\n",
    "visualize_predictions(image_path, boxes, labels, scores)\n"
   ]
  },
  {
   "cell_type": "code",
   "execution_count": null,
   "metadata": {},
   "outputs": [],
   "source": [
    "from training_tools import test, collate_fn, get_custom_dataset\n",
    "import torch \n",
    "\n",
    "print(\"Loading dataset...\")\n",
    "train_data_dir = \"../explosives_dataset/coco/test\"\n",
    "my_dataset = get_custom_dataset(train_data_dir)\n",
    "print('Number of samples: ', len(my_dataset))\n",
    "# DataLoader instance\n",
    "data_loader = torch.utils.data.DataLoader(my_dataset,\n",
    "                         batch_size=2,\n",
    "                         shuffle=True,\n",
    "                         collate_fn=collate_fn)\n",
    "\n",
    "model = fasterrcnn_resnet50_fpn_v2(pretrained=False)\n",
    "in_features = model.roi_heads.box_predictor.cls_score.in_features\n",
    "model.roi_heads.box_predictor = torchvision.models.detection.faster_rcnn.FastRCNNPredictor(in_features, 9)\n",
    "model_state_path = '../trained_models/exp_faster_rcnn.pth'\n",
    "# Load the saved model weights'\n",
    "checkpoint = torch.load(model_state_path)\n",
    "model.load_state_dict(checkpoint['model_state_dict'])\n",
    "test(model, data_loader)"
   ]
  },
  {
   "cell_type": "code",
   "execution_count": null,
   "metadata": {},
   "outputs": [],
   "source": [
    "import torch\n",
    "from torch.utils.data import DataLoader\n",
    "import torch.optim as optim\n",
    "from torch.optim.lr_scheduler import StepLR\n",
    "from training_tools import collate_fn, get_custom_dataset, save_model, create_ssd_model\n",
    "from torchvision.models.detection import fasterrcnn_resnet50_fpn_v2\n",
    "from torchvision.models.detection.faster_rcnn import FastRCNNPredictor\n",
    "\n",
    "model_state_path = './trained_models/exp_faster_rcnn.pth'\n",
    "print(\"Loading dataset...\")\n",
    "train_data_dir = \"../explosives_small_dataset/coco/train\"\n",
    "\n",
    "my_dataset = get_custom_dataset(train_data_dir)\n",
    "print('Number of samples: ', len(my_dataset))\n",
    "# DataLoader instance\n",
    "data_loader = DataLoader(my_dataset,\n",
    "                         batch_size=2,\n",
    "                         shuffle=True,\n",
    "                         collate_fn=collate_fn)\n",
    "\n",
    "# Initialize the model\n",
    "print(\"Loading the model...\")\n",
    "num_classes = 9\n",
    "model = fasterrcnn_resnet50_fpn_v2(pretrained=True)\n",
    "# Update the classifier head\n",
    "in_features = model.roi_heads.box_predictor.cls_score.in_features\n",
    "model.roi_heads.box_predictor = FastRCNNPredictor(in_features, num_classes)\n",
    "\n",
    "device = torch.device('cuda') if torch.cuda.is_available() else torch.device('cpu')\n",
    "model.to(device)\n",
    "\n",
    "params = [p for p in model.parameters() if p.requires_grad]\n",
    "optimizer = optim.SGD(params=params, lr=0.00001, momentum=0.9)\n",
    "lr_scheduler = StepLR(optimizer, step_size=2)\n",
    "epoch = 0\n",
    "model.train()\n",
    "i = 0\n",
    "for images, targets in data_loader:\n",
    "    images = list(image.to(device) for image in images)\n",
    "    targets = [{k: v.to(device) for k, v in t.items()} for t in targets]\n",
    "    optimizer.zero_grad()\n",
    "    losses = model(images, targets)\n",
    "    loss = sum(loss for loss in losses.values())\n",
    "    loss.backward()\n",
    "    optimizer.step()\n",
    "    if not i % 2:\n",
    "        print(f\"Epoch: {epoch}, Iteration: {i}, Loss: {loss.item()}\")\n",
    "    i += 1\n",
    "lr_scheduler.step()\n",
    "epoch+=1\n",
    "# save_model(model, model_state_path, optimizer, epoch, loss)"
   ]
  },
  {
   "cell_type": "code",
   "execution_count": null,
   "metadata": {},
   "outputs": [],
   "source": []
  }
 ],
 "metadata": {
  "kernelspec": {
   "display_name": ".venv",
   "language": "python",
   "name": "python3"
  },
  "language_info": {
   "codemirror_mode": {
    "name": "ipython",
    "version": 3
   },
   "file_extension": ".py",
   "mimetype": "text/x-python",
   "name": "python",
   "nbconvert_exporter": "python",
   "pygments_lexer": "ipython3",
   "version": "3.11.0"
  }
 },
 "nbformat": 4,
 "nbformat_minor": 2
}
